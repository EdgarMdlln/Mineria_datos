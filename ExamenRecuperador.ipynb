{
  "nbformat": 4,
  "nbformat_minor": 0,
  "metadata": {
    "colab": {
      "name": "Untitled3.ipynb",
      "provenance": [],
      "authorship_tag": "ABX9TyODHf4n+r4RGytpoYOdtZgk",
      "include_colab_link": true
    },
    "kernelspec": {
      "name": "python3",
      "display_name": "Python 3"
    },
    "language_info": {
      "name": "python"
    }
  },
  "cells": [
    {
      "cell_type": "markdown",
      "metadata": {
        "id": "view-in-github",
        "colab_type": "text"
      },
      "source": [
        "<a href=\"https://colab.research.google.com/github/EdgarMdlln/Mineria_datos/blob/main/ExamenRecuperador.ipynb\" target=\"_parent\"><img src=\"https://colab.research.google.com/assets/colab-badge.svg\" alt=\"Open In Colab\"/></a>"
      ]
    },
    {
      "cell_type": "markdown",
      "metadata": {
        "id": "-gN_7_qdvHm_"
      },
      "source": [
        "#**EXÁMEN RECUPERADOR**\n",
        "\n",
        "#**UNIDAD DE APRENDIZAJE.-** Minería de datos\n",
        "\n",
        "#**GRUPO.-** 002\n",
        "\n",
        "#Aile del Carmen Castro Ramírez.........1597501\n",
        "#Edgar Medellín Martínez......................1555408\n",
        "\n",
        "\n"
      ]
    },
    {
      "cell_type": "markdown",
      "metadata": {
        "id": "KCmOaM2quB8k"
      },
      "source": [
        "###**Instrucciones:**\n",
        "\n",
        "**Parte 1 (Programación Básica de Python): Responde las siguientes preguntas. (Total 20 puntos)**"
      ]
    },
    {
      "cell_type": "markdown",
      "metadata": {
        "id": "xVMasoEIuN9H"
      },
      "source": [
        "1. Haz una función que te imprima listas de números enteros aleatorios con cantidad de 5, 10, 15 elementos. (2 puntos)"
      ]
    },
    {
      "cell_type": "code",
      "metadata": {
        "colab": {
          "base_uri": "https://localhost:8080/"
        },
        "id": "Md_ZpdpwKyoK",
        "outputId": "d99474a4-e1f3-4e42-f8fb-7b2619c336ea"
      },
      "source": [
        "def lista_con_n_enteros(elementos):\n",
        " lista=[]\n",
        " for i in range(elementos):\n",
        "   lista.append(random.randint(1,100))\n",
        " return(lista)\n",
        "\n",
        "L1=(lista_con_n_enteros(5))\n",
        "L2=(lista_con_n_enteros(10))\n",
        "L3=(lista_con_n_enteros(15))\n",
        "print(\"Lista 1.-\",L1,\"\\nLista 2.-\",L2,\"\\nLista 3.-\",L3)"
      ],
      "execution_count": null,
      "outputs": [
        {
          "output_type": "stream",
          "name": "stdout",
          "text": [
            "Lista 1.- [45, 65, 98, 32, 81] \n",
            "Lista 2.- [77, 46, 23, 53, 44, 29, 73, 79, 91, 49] \n",
            "Lista 3.- [12, 74, 59, 36, 36, 3, 39, 62, 43, 18, 25, 24, 63, 20, 27]\n"
          ]
        }
      ]
    },
    {
      "cell_type": "markdown",
      "metadata": {
        "id": "eu-j8Jm0uUlZ"
      },
      "source": [
        "2. Con la función que generaste toma la lista de 15, y haz una función que te indique cual de los números es el mayor, y otra que te indique cual es el menor. (2 puntos)"
      ]
    },
    {
      "cell_type": "code",
      "metadata": {
        "colab": {
          "base_uri": "https://localhost:8080/"
        },
        "id": "QpJAYtKdmWcI",
        "outputId": "b820d70e-dc2c-46f0-8051-b6e3453632b9"
      },
      "source": [
        "print (max(L3),\"es el mayor de los numeros de la lista.\\n\",min(L3),\"es el menor de los numeros de la lista.\")\n",
        "#En este ejercicio no hicimos una funcion como tal, pues max() y min() son funciones que ya realizan ese proceso."
      ],
      "execution_count": null,
      "outputs": [
        {
          "output_type": "stream",
          "name": "stdout",
          "text": [
            "74 es el mayor de los numeros de la lista.\n",
            " 3 es el menor de los numeros de la lista.\n"
          ]
        }
      ]
    },
    {
      "cell_type": "markdown",
      "metadata": {
        "id": "tlzY3A4ruXXf"
      },
      "source": [
        "3. Toma las listas y ordénalas de mayor a menor, y de menor a mayor. (2 puntos)"
      ]
    },
    {
      "cell_type": "code",
      "metadata": {
        "colab": {
          "base_uri": "https://localhost:8080/"
        },
        "id": "3oIivkZ8o0wq",
        "outputId": "4354c596-8544-4203-eb31-2a5344959342"
      },
      "source": [
        "L1ME=sorted(L1)\n",
        "L2ME=sorted(L2)\n",
        "L3ME=sorted(L3)\n",
        "L1MA=sorted(L1,reverse=True)\n",
        "L2MA=sorted(L2,reverse=True)\n",
        "L3MA=sorted(L3,reverse=True)\n",
        "print(\"Las listas ordenadas de Mayor a menor son:\\nLista 1M.-\",L1MA,\"\\nLista 2M.-\",L2MA,\"\\nLista 3M.-\",L3MA,\"\\n\")\n",
        "print(\"Las listas ordenadas de menor a Mayor son:\\nLista 1m.-\",L1ME,\"\\nLista 2m.-\",L2ME,\"\\nLista 3m.-\",L3ME,\"\\n\")"
      ],
      "execution_count": null,
      "outputs": [
        {
          "output_type": "stream",
          "name": "stdout",
          "text": [
            "Las listas ordenadas de Mayor a menor son:\n",
            "Lista 1M.- [98, 81, 65, 45, 32] \n",
            "Lista 2M.- [91, 79, 77, 73, 53, 49, 46, 44, 29, 23] \n",
            "Lista 3M.- [74, 63, 62, 59, 43, 39, 36, 36, 27, 25, 24, 20, 18, 12, 3] \n",
            "\n",
            "Las listas ordenadas de menor a Mayor son:\n",
            "Lista 1m.- [32, 45, 65, 81, 98] \n",
            "Lista 2m.- [23, 29, 44, 46, 49, 53, 73, 77, 79, 91] \n",
            "Lista 3m.- [3, 12, 18, 20, 24, 25, 27, 36, 36, 39, 43, 59, 62, 63, 74] \n",
            "\n"
          ]
        }
      ]
    },
    {
      "cell_type": "markdown",
      "metadata": {
        "id": "KfwcOHgTuXOJ"
      },
      "source": [
        "4. Haz una sola lista que contenga todos los elementos pares de las 3 primeras listas. (2 puntos)"
      ]
    },
    {
      "cell_type": "code",
      "metadata": {
        "colab": {
          "base_uri": "https://localhost:8080/"
        },
        "id": "fTmyjtO7vw3U",
        "outputId": "badaec3e-1852-495d-d861-4cfa993a86f2"
      },
      "source": [
        "LP=[]\n",
        "for i in L1:\n",
        " if(i%2==0):\n",
        "   LP.append(i)\n",
        "for i in L2:\n",
        "  if(i%2==0):\n",
        "    LP.append(i)\n",
        "for i in L3:\n",
        "  if(i%2==0):\n",
        "    LP.append(i)\n",
        "print(\"La lista con los numeros pares de las tres listas es:\\n\",LP) "
      ],
      "execution_count": null,
      "outputs": [
        {
          "output_type": "stream",
          "name": "stdout",
          "text": [
            "La lista con los numeros pares de las tres listas es:\n",
            " [98, 32, 46, 44, 12, 74, 36, 36, 62, 18, 24, 20]\n"
          ]
        }
      ]
    },
    {
      "cell_type": "markdown",
      "metadata": {
        "id": "tg0BOw-duXFE"
      },
      "source": [
        "5. Reemplazar todos los números impares del arreglo de 15 elementos del ejercicio 1.) con un -1. (2 puntos)"
      ]
    },
    {
      "cell_type": "code",
      "metadata": {
        "colab": {
          "base_uri": "https://localhost:8080/"
        },
        "id": "5GMG9oQ20V0b",
        "outputId": "ff34cec3-d22a-4968-b2d6-643d524d00fc"
      },
      "source": [
        "LI=[]\n",
        "for i in L3:\n",
        "  if(i%2==0):\n",
        "    LI.append(i)\n",
        "  else:\n",
        "    LI.append(-1)\n",
        "print(\"La lista 3 con los impares sustituidos por -1 es:\\n\",LI)"
      ],
      "execution_count": null,
      "outputs": [
        {
          "output_type": "stream",
          "name": "stdout",
          "text": [
            "La lista 3 con los impares sustituidos por -1 es:\n",
            " [12, 74, -1, 36, 36, -1, -1, 62, -1, 18, -1, 24, -1, 20, -1]\n"
          ]
        }
      ]
    },
    {
      "cell_type": "markdown",
      "metadata": {
        "id": "X7lhsN2TuW5b"
      },
      "source": [
        "6. Haz una función que te permita hacer conversiones de grados Celsius a Fahrenheit. (2 puntos)"
      ]
    },
    {
      "cell_type": "code",
      "metadata": {
        "colab": {
          "base_uri": "https://localhost:8080/"
        },
        "id": "4TW_2gwQ4Ooz",
        "outputId": "42768e45-1501-41e9-eae1-c58a3b0da119"
      },
      "source": [
        "def celsius_a_fahrenheit(celsius):\n",
        " return ((celsius*1.8)+32)\n",
        "\n",
        "C=30\n",
        "print(C,\"grados Celsius, son\",celsius_a_fahrenheit(C),\"grados Fahrenheit.\")\n"
      ],
      "execution_count": null,
      "outputs": [
        {
          "output_type": "stream",
          "name": "stdout",
          "text": [
            "30 grados Celsius, son 86.0 grados Fahrenheit.\n"
          ]
        }
      ]
    },
    {
      "cell_type": "markdown",
      "metadata": {
        "id": "xLgC0GfnuWtG"
      },
      "source": [
        "7. Hacer relaciones entre los datos de las siguientes listas. El resultado deberá ser una lista con los elementos que se repitan en ambas listas. (2 puntos)\n",
        "\n",
        " a. = 1, 2, 3, 9, 3, 4, 3, 4, 5, 6, 11\n",
        "\n",
        " b. = 10, 6, 5, 7, 11, 12, 4, 5, 9, 66"
      ]
    },
    {
      "cell_type": "code",
      "metadata": {
        "colab": {
          "base_uri": "https://localhost:8080/"
        },
        "id": "b0zMhXMDLl-N",
        "outputId": "0f623adf-2eed-4c47-8478-5022a2499ba0"
      },
      "source": [
        "a=[1,2,3,9,3,4,3,4,5,6,11]\n",
        "b=[10,6,5,7,11,12,4,5,9,66]\n",
        "\n",
        "LR=[]\n",
        "val=0\n",
        "for i in a:\n",
        "  val=0\n",
        "  for j in b:\n",
        "    if(i==j):\n",
        "      val=val+1\n",
        "      for k in LR:\n",
        "        if(i==k):\n",
        "          val=0\n",
        "  if(val>0):\n",
        "    LR.append(i)\n",
        "print(\"Los numeros que se repiten en ambas listas son:\\n\",LR)"
      ],
      "execution_count": null,
      "outputs": [
        {
          "output_type": "stream",
          "name": "stdout",
          "text": [
            "Los numeros que se repiten en ambas listas son:\n",
            " [9, 4, 5, 6, 11]\n"
          ]
        }
      ]
    },
    {
      "cell_type": "markdown",
      "metadata": {
        "id": "tdaHr8IHuWiL"
      },
      "source": [
        "8. De las técnicas que vimos en clase, describe 2. Para que son, como se utilizan y da dos ejemplos pequeños.  (6 puntos)"
      ]
    },
    {
      "cell_type": "markdown",
      "metadata": {
        "id": "q1zBPZtgTez_"
      },
      "source": [
        "La regresion bayesiana es una tecnica basada en la distribucion de probabilidad de los datos, lo que hace esta tecnica es que primero define la distribucion que mejor se adapte a los datos, posterirormente determina la veracidad de similitud entre los datos generados por las distribuciones y los datas analizados, finalmente se aplica el teorema de bayes para determinar la exactitud de las distribuciones utilizadas, un ejemplo de su aplicacion seria en la medicina para determinar la probabilidad de que alguna persona elegida al azar sea propenza a sufrir alguna enfermedad especifica y otro ejemplo seria en el desarrollo de software para crear programas que determinen o predigan alguna eventualidad con base en comportamientos o condiciones especificas."
      ]
    },
    {
      "cell_type": "markdown",
      "metadata": {
        "id": "ifUhJrkDQAIc"
      },
      "source": [
        "Los arboles de decision es una tecnica que se utiliza principalmente para recopilar informacion, se trata de puntos que se ramifican en las diferentes decisiones, consecuencias o resultados de determinado acontecimiento, de una punto inicial se comienzan a separar los posibles caminos para los diferentes \"resultados finales\", un ejemplo de su aplicacion es en la economia para predecir el comportamiento de alguna moneda o alguna inversion, otro ejemplo seria en las ciencias para predecir los resultados de experimentos e incluso estimar las condiciones necesarias para algun resultado en concreto."
      ]
    },
    {
      "cell_type": "markdown",
      "metadata": {
        "id": "V5FcL6JguWUu"
      },
      "source": [
        "**Parte 2 (Desarrollo de técnicas de minería de datos): Tomando en cuenta la base de datos que se les proporcione, se realizarán los siguientes pasos. (Total 90 puntos)**"
      ]
    },
    {
      "cell_type": "markdown",
      "metadata": {
        "id": "xNoLsqfMuWHz"
      },
      "source": [
        "####**Limpieza de datos:**"
      ]
    },
    {
      "cell_type": "markdown",
      "metadata": {
        "id": "qoccFapUSikQ"
      },
      "source": [
        "9. Leer el archivo csv y presentar los datos de manera sencilla.\n",
        "\n",
        "  a. Aquí se tomara en cuenta que se pueda leer el archivo de manera correcta, y que se muestren los primeros datos."
      ]
    },
    {
      "cell_type": "markdown",
      "metadata": {
        "id": "6m6S_NdVxEqn"
      },
      "source": [
        "10. Describir los datos por columnas y tipo.\n",
        "\n",
        "  a. Aquí incluye saber cuantos datos tienen, cuantos datos únicos existen, si hay datos nulos. Saber que tipo de dato es (numero, letras, etc.). Cambiar los nombres de las columnas de ser necesario."
      ]
    },
    {
      "cell_type": "markdown",
      "metadata": {
        "id": "KkVW1UIpxuW5"
      },
      "source": [
        "11. Tomando en cuenta alguna característica, hacer conjuntos de datos y crear nuevos archivos con ellas.\n",
        "\n",
        "  a. Aquí hablamos de guardar valores en una variable nueva ej. “Clase_1”, “Clase_2”, etc. Y hacer un nuevo archivo para poder hacer una gráfica diferente con estos datos."
      ]
    },
    {
      "cell_type": "markdown",
      "metadata": {
        "id": "xNYZqDmCx-Jh"
      },
      "source": [
        "En general el objetivo de esta sección es dejar los datos de manera que Uds. puedan manejarlos en el siguiente paso."
      ]
    },
    {
      "cell_type": "markdown",
      "metadata": {
        "id": "1LrleYa_yRIJ"
      },
      "source": [
        "####**Visualización de datos:**"
      ]
    },
    {
      "cell_type": "markdown",
      "metadata": {
        "id": "KWhqXxufSpwH"
      },
      "source": [
        "1. Con las librerías adecuadas se realizará un análisis estadístico básico.\n",
        "  \n",
        "  a. No deben utilizar todas las que se muestran en el práctica que se realizó en clase, mas solo las que vayan a utilizar. Mínimo deben de ser 4 diferentes."
      ]
    },
    {
      "cell_type": "markdown",
      "metadata": {
        "id": "k53S65_oya7M"
      },
      "source": [
        "2. Tomar en cuenta cualquier librería que necesiten para la creación de gráficas. Realizar mínimo 4 gráficas diferentes, máximo 8 para describir correctamente los datos que se les proporciona.\n",
        "\n",
        "  a. Para las gráficas diferentes, no me refiero al tipo (de barras de pastel, etc) si no que en los resultados les digan cosas diferentes. Deben de tener continuidad las graficas, por ejemplo, si la primera grafica es de correlación, la siguiente debe de resaltar los datos que nos sirven de esta primera gráfica. Según los resultados de esta, podemos armar la siguiente, y así sucesivamente."
      ]
    },
    {
      "cell_type": "markdown",
      "metadata": {
        "id": "81sqH5pEy4Kl"
      },
      "source": [
        "Además de estos puntos se tomará fuertemente en cuenta:\n",
        "\n",
        "**• Introducción. (10 puntos)**\n",
        "  \n",
        "->  Explicación de la base de datos que utilizan, y describirla como algún proyecto que se les ocurra."
      ]
    },
    {
      "cell_type": "markdown",
      "metadata": {
        "id": "dEIw_h5su0Q-"
      },
      "source": [
        "La base de datos que se utilizara contiene datos sobre peliculas, puntuaciones, estrenos, votos, entre otras cosas.\n",
        "\n",
        "El crear peliculas exitosas, no siempre es facil, pero para lograrlo se debe tomar en cuenta la opinion del publico ya que ellos son quienes verdaderamente determinan si una pelicula tiene exito o no.\n"
      ]
    },
    {
      "cell_type": "markdown",
      "metadata": {
        "id": "tpJ3brO20cqC"
      },
      "source": [
        "**• Objetivos: (10 puntos)**\n",
        "\n",
        "->  Al igual que en las prácticas realizadas en clase, se generaran al menos 3 objetivos, uno principal y dos secundarios. El principal debe de estar alineado con la problemática que quieran resolver, los otros dos pueden ser como preguntas de interés.\n",
        "\n",
        "->  En todos los casos, respetar el formato comentado en clase (cortos y consisos, iniciar con una palabra en infinitivo, que no se repiten entre ellos)"
      ]
    },
    {
      "cell_type": "markdown",
      "metadata": {
        "id": "g6bcrzeSv6Kd"
      },
      "source": [
        "Objetivo principal.-\n",
        "\n",
        "Determinar las condiciones que necesita una pelicula para generar la mayor ganancia posible.\n",
        "\n",
        "\n",
        "Objetivos secundarios.-\n",
        "\n",
        "Estimar la cantidad de peliculas que generan altas ganancias.\n",
        "\n",
        "Encontrara el tiempo que debe durar una pelicula para ser popular."
      ]
    },
    {
      "cell_type": "markdown",
      "metadata": {
        "id": "PQnLJiGi1TsW"
      },
      "source": [
        "**• Desarrollo de los dos puntos de Limpieza de datos y Visualización de datos. (50 puntos)**\n",
        "\n",
        "->  En este caso nos referimos a la explicación clara de cada uno de los pasos que realicen en los dos puntos. Ej. Si van a eliminar datos de una columna, explicar correctamente porque se esta haciendo. No es valido decir que solo quisieron eliminar las columnas por que si, hagan un análisis antes de eliminarlas.\n",
        "\n",
        "->  En la parte de visualización, se tienen que realizar al menos 4 gráficas diferentes (pueden buscar la practica 2 como referencia).\n",
        "\n",
        "->  Cada una de las gráficas tiene que llevar una explicación detallada de qué fue lo que realizaron y que información encontraron. Las gráficas deben verse\n",
        "claramente, y la explicación debe de estar acorde a los datos que encontraron en\n",
        "estas gráficas."
      ]
    },
    {
      "cell_type": "code",
      "metadata": {
        "colab": {
          "base_uri": "https://localhost:8080/",
          "height": 610
        },
        "id": "FCDAvi0oSCyP",
        "outputId": "a165b55f-a8ef-4d7c-dcb3-d921dc4a5fe2"
      },
      "source": [
        "import pandas as pd\n",
        "import numpy as np\n",
        "import seaborn as sns\n",
        "import matplotlib.pyplot as plt\n",
        "\n",
        "df=pd.read_csv( \"/Top_10000_Movies.csv\", index_col=None, header=0, engine='python' )\n",
        "df.head(5)"
      ],
      "execution_count": 77,
      "outputs": [
        {
          "output_type": "execute_result",
          "data": {
            "text/html": [
              "<div>\n",
              "<style scoped>\n",
              "    .dataframe tbody tr th:only-of-type {\n",
              "        vertical-align: middle;\n",
              "    }\n",
              "\n",
              "    .dataframe tbody tr th {\n",
              "        vertical-align: top;\n",
              "    }\n",
              "\n",
              "    .dataframe thead th {\n",
              "        text-align: right;\n",
              "    }\n",
              "</style>\n",
              "<table border=\"1\" class=\"dataframe\">\n",
              "  <thead>\n",
              "    <tr style=\"text-align: right;\">\n",
              "      <th></th>\n",
              "      <th>Unnamed: 0</th>\n",
              "      <th>id</th>\n",
              "      <th>original_language</th>\n",
              "      <th>original_title</th>\n",
              "      <th>popularity</th>\n",
              "      <th>release_date</th>\n",
              "      <th>vote_average</th>\n",
              "      <th>vote_count</th>\n",
              "      <th>genre</th>\n",
              "      <th>overview</th>\n",
              "      <th>revenue</th>\n",
              "      <th>runtime</th>\n",
              "      <th>tagline</th>\n",
              "    </tr>\n",
              "  </thead>\n",
              "  <tbody>\n",
              "    <tr>\n",
              "      <th>0</th>\n",
              "      <td>0</td>\n",
              "      <td>580489.0</td>\n",
              "      <td>en</td>\n",
              "      <td>Venom: Let There Be Carnage</td>\n",
              "      <td>5401.308</td>\n",
              "      <td>2021-09-30</td>\n",
              "      <td>6.8</td>\n",
              "      <td>1736.0</td>\n",
              "      <td>['Science Fiction', 'Action', 'Adventure']</td>\n",
              "      <td>After finding a host body in investigative rep...</td>\n",
              "      <td>424000000.0</td>\n",
              "      <td>97.0</td>\n",
              "      <td>NaN</td>\n",
              "    </tr>\n",
              "    <tr>\n",
              "      <th>1</th>\n",
              "      <td>1</td>\n",
              "      <td>524434.0</td>\n",
              "      <td>en</td>\n",
              "      <td>Eternals</td>\n",
              "      <td>3365.535</td>\n",
              "      <td>2021-11-03</td>\n",
              "      <td>7.1</td>\n",
              "      <td>622.0</td>\n",
              "      <td>['Action', 'Adventure', 'Science Fiction', 'Fa...</td>\n",
              "      <td>The Eternals are a team of ancient aliens who ...</td>\n",
              "      <td>165000000.0</td>\n",
              "      <td>157.0</td>\n",
              "      <td>In the beginning...</td>\n",
              "    </tr>\n",
              "    <tr>\n",
              "      <th>2</th>\n",
              "      <td>2</td>\n",
              "      <td>438631.0</td>\n",
              "      <td>en</td>\n",
              "      <td>Dune</td>\n",
              "      <td>2911.423</td>\n",
              "      <td>2021-09-15</td>\n",
              "      <td>8.0</td>\n",
              "      <td>3632.0</td>\n",
              "      <td>['Action', 'Adventure', 'Science Fiction']</td>\n",
              "      <td>Paul Atreides, a brilliant and gifted young ma...</td>\n",
              "      <td>331116356.0</td>\n",
              "      <td>155.0</td>\n",
              "      <td>Beyond fear, destiny awaits.</td>\n",
              "    </tr>\n",
              "    <tr>\n",
              "      <th>3</th>\n",
              "      <td>3</td>\n",
              "      <td>796499.0</td>\n",
              "      <td>en</td>\n",
              "      <td>Army of Thieves</td>\n",
              "      <td>2552.437</td>\n",
              "      <td>2021-10-27</td>\n",
              "      <td>6.9</td>\n",
              "      <td>555.0</td>\n",
              "      <td>['Action', 'Crime', 'Thriller']</td>\n",
              "      <td>A mysterious woman recruits bank teller Ludwig...</td>\n",
              "      <td>0.0</td>\n",
              "      <td>127.0</td>\n",
              "      <td>Before Vegas, one locksmith became a legend.</td>\n",
              "    </tr>\n",
              "    <tr>\n",
              "      <th>4</th>\n",
              "      <td>4</td>\n",
              "      <td>550988.0</td>\n",
              "      <td>en</td>\n",
              "      <td>Free Guy</td>\n",
              "      <td>1850.470</td>\n",
              "      <td>2021-08-11</td>\n",
              "      <td>7.8</td>\n",
              "      <td>3493.0</td>\n",
              "      <td>['Comedy', 'Action', 'Adventure', 'Science Fic...</td>\n",
              "      <td>A bank teller called Guy realizes he is a back...</td>\n",
              "      <td>331096766.0</td>\n",
              "      <td>115.0</td>\n",
              "      <td>Life's too short to be a background character.</td>\n",
              "    </tr>\n",
              "  </tbody>\n",
              "</table>\n",
              "</div>"
            ],
            "text/plain": [
              "  Unnamed: 0        id original_language               original_title  \\\n",
              "0          0  580489.0                en  Venom: Let There Be Carnage   \n",
              "1          1  524434.0                en                     Eternals   \n",
              "2          2  438631.0                en                         Dune   \n",
              "3          3  796499.0                en              Army of Thieves   \n",
              "4          4  550988.0                en                     Free Guy   \n",
              "\n",
              "   popularity release_date  vote_average  vote_count  \\\n",
              "0    5401.308   2021-09-30           6.8      1736.0   \n",
              "1    3365.535   2021-11-03           7.1       622.0   \n",
              "2    2911.423   2021-09-15           8.0      3632.0   \n",
              "3    2552.437   2021-10-27           6.9       555.0   \n",
              "4    1850.470   2021-08-11           7.8      3493.0   \n",
              "\n",
              "                                               genre  \\\n",
              "0         ['Science Fiction', 'Action', 'Adventure']   \n",
              "1  ['Action', 'Adventure', 'Science Fiction', 'Fa...   \n",
              "2         ['Action', 'Adventure', 'Science Fiction']   \n",
              "3                    ['Action', 'Crime', 'Thriller']   \n",
              "4  ['Comedy', 'Action', 'Adventure', 'Science Fic...   \n",
              "\n",
              "                                            overview      revenue  runtime  \\\n",
              "0  After finding a host body in investigative rep...  424000000.0     97.0   \n",
              "1  The Eternals are a team of ancient aliens who ...  165000000.0    157.0   \n",
              "2  Paul Atreides, a brilliant and gifted young ma...  331116356.0    155.0   \n",
              "3  A mysterious woman recruits bank teller Ludwig...          0.0    127.0   \n",
              "4  A bank teller called Guy realizes he is a back...  331096766.0    115.0   \n",
              "\n",
              "                                          tagline  \n",
              "0                                             NaN  \n",
              "1                             In the beginning...  \n",
              "2                    Beyond fear, destiny awaits.  \n",
              "3    Before Vegas, one locksmith became a legend.  \n",
              "4  Life's too short to be a background character.  "
            ]
          },
          "metadata": {},
          "execution_count": 77
        }
      ]
    },
    {
      "cell_type": "markdown",
      "metadata": {
        "id": "xJIgUPOWiwHh"
      },
      "source": [
        "Se muestran las 5 primeras filas de la base de datos."
      ]
    },
    {
      "cell_type": "code",
      "metadata": {
        "colab": {
          "base_uri": "https://localhost:8080/"
        },
        "id": "56TZnDE6c3is",
        "outputId": "62f71348-fdbe-4b2d-a35c-369d5d1cdbed"
      },
      "source": [
        "print(\"Número de columnas en la base datos:\\n\",len(df.columns.values))\n",
        "print(\"Número de filas en la base datos:\\n\",len(df.index))\n",
        "print(\"\\nColumna / Tipo de dato\\n\")\n",
        "print(df.dtypes,\"\\n\")\n",
        "print(\"Columna |  Datos nulos\\n\")\n",
        "df.isnull().sum()"
      ],
      "execution_count": 78,
      "outputs": [
        {
          "output_type": "stream",
          "name": "stdout",
          "text": [
            "Número de columnas en la base datos:\n",
            " 13\n",
            "Número de filas en la base datos:\n",
            " 10014\n",
            "\n",
            "Columna / Tipo de dato\n",
            "\n",
            "Unnamed: 0            object\n",
            "id                   float64\n",
            "original_language     object\n",
            "original_title        object\n",
            "popularity           float64\n",
            "release_date          object\n",
            "vote_average         float64\n",
            "vote_count           float64\n",
            "genre                 object\n",
            "overview              object\n",
            "revenue              float64\n",
            "runtime              float64\n",
            "tagline               object\n",
            "dtype: object \n",
            "\n",
            "Columna |  Datos nulos\n",
            "\n"
          ]
        },
        {
          "output_type": "execute_result",
          "data": {
            "text/plain": [
              "Unnamed: 0              0\n",
              "id                     12\n",
              "original_language      12\n",
              "original_title         13\n",
              "popularity             14\n",
              "release_date           52\n",
              "vote_average           14\n",
              "vote_count             14\n",
              "genre                  14\n",
              "overview              114\n",
              "revenue                16\n",
              "runtime                25\n",
              "tagline              2935\n",
              "dtype: int64"
            ]
          },
          "metadata": {},
          "execution_count": 78
        }
      ]
    },
    {
      "cell_type": "markdown",
      "metadata": {
        "id": "nznREhHXi4dt"
      },
      "source": [
        "Se aprecia el numero de columnas, 13, y el numero de filas, 10014, tambien se observa el tipo de dato que tiene cada columna y finalmente se buscan y se contabilizan los datos nulos de cada columna."
      ]
    },
    {
      "cell_type": "code",
      "metadata": {
        "colab": {
          "base_uri": "https://localhost:8080/",
          "height": 1000
        },
        "id": "bJtV3XTAfMGY",
        "outputId": "ceb60987-d072-42d4-e9f9-5b9ee9b358d3"
      },
      "source": [
        "df=df.rename(columns={'original_language':'idioma','original_title':'nombre','popularity':'popularidad','release_date':'estreno','vote_average':'puntuacion','vote_count':'votos','genre':'genero','overview':'resumen','revenue':'ganancias','runtime':'duracion'})\n",
        "df"
      ],
      "execution_count": 79,
      "outputs": [
        {
          "output_type": "execute_result",
          "data": {
            "text/html": [
              "<div>\n",
              "<style scoped>\n",
              "    .dataframe tbody tr th:only-of-type {\n",
              "        vertical-align: middle;\n",
              "    }\n",
              "\n",
              "    .dataframe tbody tr th {\n",
              "        vertical-align: top;\n",
              "    }\n",
              "\n",
              "    .dataframe thead th {\n",
              "        text-align: right;\n",
              "    }\n",
              "</style>\n",
              "<table border=\"1\" class=\"dataframe\">\n",
              "  <thead>\n",
              "    <tr style=\"text-align: right;\">\n",
              "      <th></th>\n",
              "      <th>Unnamed: 0</th>\n",
              "      <th>id</th>\n",
              "      <th>idioma</th>\n",
              "      <th>nombre</th>\n",
              "      <th>popularidad</th>\n",
              "      <th>estreno</th>\n",
              "      <th>puntuacion</th>\n",
              "      <th>votos</th>\n",
              "      <th>genero</th>\n",
              "      <th>resumen</th>\n",
              "      <th>ganancias</th>\n",
              "      <th>duracion</th>\n",
              "      <th>tagline</th>\n",
              "    </tr>\n",
              "  </thead>\n",
              "  <tbody>\n",
              "    <tr>\n",
              "      <th>0</th>\n",
              "      <td>0</td>\n",
              "      <td>580489.0</td>\n",
              "      <td>en</td>\n",
              "      <td>Venom: Let There Be Carnage</td>\n",
              "      <td>5401.308</td>\n",
              "      <td>2021-09-30</td>\n",
              "      <td>6.8</td>\n",
              "      <td>1736.0</td>\n",
              "      <td>['Science Fiction', 'Action', 'Adventure']</td>\n",
              "      <td>After finding a host body in investigative rep...</td>\n",
              "      <td>424000000.0</td>\n",
              "      <td>97.0</td>\n",
              "      <td>NaN</td>\n",
              "    </tr>\n",
              "    <tr>\n",
              "      <th>1</th>\n",
              "      <td>1</td>\n",
              "      <td>524434.0</td>\n",
              "      <td>en</td>\n",
              "      <td>Eternals</td>\n",
              "      <td>3365.535</td>\n",
              "      <td>2021-11-03</td>\n",
              "      <td>7.1</td>\n",
              "      <td>622.0</td>\n",
              "      <td>['Action', 'Adventure', 'Science Fiction', 'Fa...</td>\n",
              "      <td>The Eternals are a team of ancient aliens who ...</td>\n",
              "      <td>165000000.0</td>\n",
              "      <td>157.0</td>\n",
              "      <td>In the beginning...</td>\n",
              "    </tr>\n",
              "    <tr>\n",
              "      <th>2</th>\n",
              "      <td>2</td>\n",
              "      <td>438631.0</td>\n",
              "      <td>en</td>\n",
              "      <td>Dune</td>\n",
              "      <td>2911.423</td>\n",
              "      <td>2021-09-15</td>\n",
              "      <td>8.0</td>\n",
              "      <td>3632.0</td>\n",
              "      <td>['Action', 'Adventure', 'Science Fiction']</td>\n",
              "      <td>Paul Atreides, a brilliant and gifted young ma...</td>\n",
              "      <td>331116356.0</td>\n",
              "      <td>155.0</td>\n",
              "      <td>Beyond fear, destiny awaits.</td>\n",
              "    </tr>\n",
              "    <tr>\n",
              "      <th>3</th>\n",
              "      <td>3</td>\n",
              "      <td>796499.0</td>\n",
              "      <td>en</td>\n",
              "      <td>Army of Thieves</td>\n",
              "      <td>2552.437</td>\n",
              "      <td>2021-10-27</td>\n",
              "      <td>6.9</td>\n",
              "      <td>555.0</td>\n",
              "      <td>['Action', 'Crime', 'Thriller']</td>\n",
              "      <td>A mysterious woman recruits bank teller Ludwig...</td>\n",
              "      <td>0.0</td>\n",
              "      <td>127.0</td>\n",
              "      <td>Before Vegas, one locksmith became a legend.</td>\n",
              "    </tr>\n",
              "    <tr>\n",
              "      <th>4</th>\n",
              "      <td>4</td>\n",
              "      <td>550988.0</td>\n",
              "      <td>en</td>\n",
              "      <td>Free Guy</td>\n",
              "      <td>1850.470</td>\n",
              "      <td>2021-08-11</td>\n",
              "      <td>7.8</td>\n",
              "      <td>3493.0</td>\n",
              "      <td>['Comedy', 'Action', 'Adventure', 'Science Fic...</td>\n",
              "      <td>A bank teller called Guy realizes he is a back...</td>\n",
              "      <td>331096766.0</td>\n",
              "      <td>115.0</td>\n",
              "      <td>Life's too short to be a background character.</td>\n",
              "    </tr>\n",
              "    <tr>\n",
              "      <th>...</th>\n",
              "      <td>...</td>\n",
              "      <td>...</td>\n",
              "      <td>...</td>\n",
              "      <td>...</td>\n",
              "      <td>...</td>\n",
              "      <td>...</td>\n",
              "      <td>...</td>\n",
              "      <td>...</td>\n",
              "      <td>...</td>\n",
              "      <td>...</td>\n",
              "      <td>...</td>\n",
              "      <td>...</td>\n",
              "      <td>...</td>\n",
              "    </tr>\n",
              "    <tr>\n",
              "      <th>10009</th>\n",
              "      <td>9995</td>\n",
              "      <td>530.0</td>\n",
              "      <td>en</td>\n",
              "      <td>A Grand Day Out</td>\n",
              "      <td>9.266</td>\n",
              "      <td>1990-05-18</td>\n",
              "      <td>7.5</td>\n",
              "      <td>594.0</td>\n",
              "      <td>['Adventure', 'Animation', 'Comedy', 'Science ...</td>\n",
              "      <td>Wallace and Gromit have run out of cheese and ...</td>\n",
              "      <td>0.0</td>\n",
              "      <td>23.0</td>\n",
              "      <td>NaN</td>\n",
              "    </tr>\n",
              "    <tr>\n",
              "      <th>10010</th>\n",
              "      <td>9996</td>\n",
              "      <td>15934.0</td>\n",
              "      <td>en</td>\n",
              "      <td>El cantante</td>\n",
              "      <td>10.417</td>\n",
              "      <td>2006-09-12</td>\n",
              "      <td>7.0</td>\n",
              "      <td>80.0</td>\n",
              "      <td>['History', 'Drama', 'Music']</td>\n",
              "      <td>The rise and fall of salsa singer, Héctor Lavo...</td>\n",
              "      <td>0.0</td>\n",
              "      <td>116.0</td>\n",
              "      <td>Based on the true story of the King of Salsa, ...</td>\n",
              "    </tr>\n",
              "    <tr>\n",
              "      <th>10011</th>\n",
              "      <td>9997</td>\n",
              "      <td>162215.0</td>\n",
              "      <td>en</td>\n",
              "      <td>How I Live Now</td>\n",
              "      <td>9.520</td>\n",
              "      <td>2013-09-10</td>\n",
              "      <td>6.6</td>\n",
              "      <td>705.0</td>\n",
              "      <td>['Drama', 'Action', 'Thriller', 'War']</td>\n",
              "      <td>An American girl on holiday in the English cou...</td>\n",
              "      <td>0.0</td>\n",
              "      <td>101.0</td>\n",
              "      <td>Love will lead you home</td>\n",
              "    </tr>\n",
              "    <tr>\n",
              "      <th>10012</th>\n",
              "      <td>9998</td>\n",
              "      <td>5723.0</td>\n",
              "      <td>en</td>\n",
              "      <td>Once</td>\n",
              "      <td>9.267</td>\n",
              "      <td>2007-03-23</td>\n",
              "      <td>7.4</td>\n",
              "      <td>990.0</td>\n",
              "      <td>['Drama', 'Music', 'Romance']</td>\n",
              "      <td>A vacuum repairman moonlights as a street musi...</td>\n",
              "      <td>20710513.0</td>\n",
              "      <td>85.0</td>\n",
              "      <td>How often do you find the right person?</td>\n",
              "    </tr>\n",
              "    <tr>\n",
              "      <th>10013</th>\n",
              "      <td>9999</td>\n",
              "      <td>311667.0</td>\n",
              "      <td>en</td>\n",
              "      <td>Manhattan Night</td>\n",
              "      <td>9.273</td>\n",
              "      <td>2016-05-20</td>\n",
              "      <td>6.0</td>\n",
              "      <td>304.0</td>\n",
              "      <td>['Drama', 'Mystery', 'Thriller']</td>\n",
              "      <td>Porter Wren is a Manhattan tabloid writer with...</td>\n",
              "      <td>0.0</td>\n",
              "      <td>113.0</td>\n",
              "      <td>No reporter can resist a siren.</td>\n",
              "    </tr>\n",
              "  </tbody>\n",
              "</table>\n",
              "<p>10014 rows × 13 columns</p>\n",
              "</div>"
            ],
            "text/plain": [
              "      Unnamed: 0        id idioma                       nombre  popularidad  \\\n",
              "0              0  580489.0     en  Venom: Let There Be Carnage     5401.308   \n",
              "1              1  524434.0     en                     Eternals     3365.535   \n",
              "2              2  438631.0     en                         Dune     2911.423   \n",
              "3              3  796499.0     en              Army of Thieves     2552.437   \n",
              "4              4  550988.0     en                     Free Guy     1850.470   \n",
              "...          ...       ...    ...                          ...          ...   \n",
              "10009       9995     530.0     en              A Grand Day Out        9.266   \n",
              "10010       9996   15934.0     en                  El cantante       10.417   \n",
              "10011       9997  162215.0     en               How I Live Now        9.520   \n",
              "10012       9998    5723.0     en                         Once        9.267   \n",
              "10013       9999  311667.0     en              Manhattan Night        9.273   \n",
              "\n",
              "          estreno  puntuacion   votos  \\\n",
              "0      2021-09-30         6.8  1736.0   \n",
              "1      2021-11-03         7.1   622.0   \n",
              "2      2021-09-15         8.0  3632.0   \n",
              "3      2021-10-27         6.9   555.0   \n",
              "4      2021-08-11         7.8  3493.0   \n",
              "...           ...         ...     ...   \n",
              "10009  1990-05-18         7.5   594.0   \n",
              "10010  2006-09-12         7.0    80.0   \n",
              "10011  2013-09-10         6.6   705.0   \n",
              "10012  2007-03-23         7.4   990.0   \n",
              "10013  2016-05-20         6.0   304.0   \n",
              "\n",
              "                                                  genero  \\\n",
              "0             ['Science Fiction', 'Action', 'Adventure']   \n",
              "1      ['Action', 'Adventure', 'Science Fiction', 'Fa...   \n",
              "2             ['Action', 'Adventure', 'Science Fiction']   \n",
              "3                        ['Action', 'Crime', 'Thriller']   \n",
              "4      ['Comedy', 'Action', 'Adventure', 'Science Fic...   \n",
              "...                                                  ...   \n",
              "10009  ['Adventure', 'Animation', 'Comedy', 'Science ...   \n",
              "10010                      ['History', 'Drama', 'Music']   \n",
              "10011             ['Drama', 'Action', 'Thriller', 'War']   \n",
              "10012                      ['Drama', 'Music', 'Romance']   \n",
              "10013                   ['Drama', 'Mystery', 'Thriller']   \n",
              "\n",
              "                                                 resumen    ganancias  \\\n",
              "0      After finding a host body in investigative rep...  424000000.0   \n",
              "1      The Eternals are a team of ancient aliens who ...  165000000.0   \n",
              "2      Paul Atreides, a brilliant and gifted young ma...  331116356.0   \n",
              "3      A mysterious woman recruits bank teller Ludwig...          0.0   \n",
              "4      A bank teller called Guy realizes he is a back...  331096766.0   \n",
              "...                                                  ...          ...   \n",
              "10009  Wallace and Gromit have run out of cheese and ...          0.0   \n",
              "10010  The rise and fall of salsa singer, Héctor Lavo...          0.0   \n",
              "10011  An American girl on holiday in the English cou...          0.0   \n",
              "10012  A vacuum repairman moonlights as a street musi...   20710513.0   \n",
              "10013  Porter Wren is a Manhattan tabloid writer with...          0.0   \n",
              "\n",
              "       duracion                                            tagline  \n",
              "0          97.0                                                NaN  \n",
              "1         157.0                                In the beginning...  \n",
              "2         155.0                       Beyond fear, destiny awaits.  \n",
              "3         127.0       Before Vegas, one locksmith became a legend.  \n",
              "4         115.0     Life's too short to be a background character.  \n",
              "...         ...                                                ...  \n",
              "10009      23.0                                                NaN  \n",
              "10010     116.0  Based on the true story of the King of Salsa, ...  \n",
              "10011     101.0                            Love will lead you home  \n",
              "10012      85.0            How often do you find the right person?  \n",
              "10013     113.0                    No reporter can resist a siren.  \n",
              "\n",
              "[10014 rows x 13 columns]"
            ]
          },
          "metadata": {},
          "execution_count": 79
        }
      ]
    },
    {
      "cell_type": "markdown",
      "metadata": {
        "id": "kRMahW8xjdwY"
      },
      "source": [
        "Se renombra cada columna de la base de datos para que sea mas facil su manipulacion."
      ]
    },
    {
      "cell_type": "code",
      "metadata": {
        "colab": {
          "base_uri": "https://localhost:8080/",
          "height": 1000
        },
        "id": "JH6GG60Ijrk1",
        "outputId": "82e27a7e-4a90-4f49-b62c-887d850a6ba6"
      },
      "source": [
        "f,ax=plt.subplots(figsize = (18,18))\n",
        "sns.heatmap(df.corr(),annot= True,linewidths=0.5,fmt = \".1f\",ax=ax)\n",
        "plt.xticks(rotation=90)\n",
        "plt.yticks(rotation=0)\n",
        "plt.title('Mapa de correlación')\n",
        "plt.savefig('graph.png')\n",
        "plt.show()"
      ],
      "execution_count": 80,
      "outputs": [
        {
          "output_type": "display_data",
          "data": {
            "image/png": "[encoded data removed]",
            "text/plain": [
              "<Figure size 1296x1296 with 2 Axes>"
            ]
          },
          "metadata": {
            "needs_background": "light"
          }
        }
      ]
    },
    {
      "cell_type": "markdown",
      "metadata": {
        "id": "JUr2DnIPl5jf"
      },
      "source": [
        "Con la tabla de correlacion podemos observar cuales son las columnas que estan mas relacionadas entre si, en este caso podemos observar una gran relacion entre la columna de votos y ganancias."
      ]
    },
    {
      "cell_type": "code",
      "metadata": {
        "colab": {
          "base_uri": "https://localhost:8080/"
        },
        "id": "_utzKEGhrUIN",
        "outputId": "a8f6ef17-a04b-4c23-ea14-2db566866b78"
      },
      "source": [
        "df['votos'].mean()"
      ],
      "execution_count": 94,
      "outputs": [
        {
          "output_type": "execute_result",
          "data": {
            "text/plain": [
              "1315.0849"
            ]
          },
          "metadata": {},
          "execution_count": 94
        }
      ]
    },
    {
      "cell_type": "markdown",
      "metadata": {
        "id": "vOtYiCT7r5zu"
      },
      "source": [
        "Al calcular el promedio de la columna votos sera mas facil poder hacer una grafica con los datos claros."
      ]
    },
    {
      "cell_type": "code",
      "metadata": {
        "colab": {
          "base_uri": "https://localhost:8080/",
          "height": 282
        },
        "id": "XNRSzY-rqlrK",
        "outputId": "9e37556f-c436-4f4c-edd5-77e806aede59"
      },
      "source": [
        "df[df['votos'] > 1300]['votos'].plot.hist()"
      ],
      "execution_count": 95,
      "outputs": [
        {
          "output_type": "execute_result",
          "data": {
            "text/plain": [
              "<matplotlib.axes._subplots.AxesSubplot at 0x7fb2bca22990>"
            ]
          },
          "metadata": {},
          "execution_count": 95
        },
        {
          "output_type": "display_data",
          "data": {
            "image/png": "[encoded data removed]",
            "text/plain": [
              "<Figure size 432x288 with 1 Axes>"
            ]
          },
          "metadata": {
            "needs_background": "light"
          }
        }
      ]
    },
    {
      "cell_type": "markdown",
      "metadata": {
        "id": "TgQR0Jq9sO0w"
      },
      "source": [
        "La mayoria de los datos se concentran en puntuaciones bajas, esto por si solo nos podria indicar que la gente no tiende a ver muchas peliculas o que en realidad no toda la gente que ve peliculas las puntea, lo cual es mas probable."
      ]
    },
    {
      "cell_type": "code",
      "metadata": {
        "colab": {
          "base_uri": "https://localhost:8080/",
          "height": 339
        },
        "id": "lagajziWsnkZ",
        "outputId": "e5fd54ff-c895-49d0-e437-4667b8e535a7"
      },
      "source": [
        "df['ganancias'].value_counts().tail(15).plot.bar()"
      ],
      "execution_count": 99,
      "outputs": [
        {
          "output_type": "execute_result",
          "data": {
            "text/plain": [
              "<matplotlib.axes._subplots.AxesSubplot at 0x7fb2bc850610>"
            ]
          },
          "metadata": {},
          "execution_count": 99
        },
        {
          "output_type": "display_data",
          "data": {
            "image/png": "[encoded data removed]",
            "text/plain": [
              "<Figure size 432x288 with 1 Axes>"
            ]
          },
          "metadata": {
            "needs_background": "light"
          }
        }
      ]
    },
    {
      "cell_type": "markdown",
      "metadata": {
        "id": "MBqB3fm5tL-B"
      },
      "source": [
        "Esta grafica nos dice que solamente muy pocas peliculas son capaces de generar una buena ganancia."
      ]
    },
    {
      "cell_type": "code",
      "metadata": {
        "colab": {
          "base_uri": "https://localhost:8080/",
          "height": 307
        },
        "id": "mrqp5SrataK7",
        "outputId": "062434f4-3c46-45bb-ebbf-18fe72e9c658"
      },
      "source": [
        "df[df['votos'] > 1300].sample(100).plot.scatter(x='votos', y='ganancias')"
      ],
      "execution_count": 102,
      "outputs": [
        {
          "output_type": "execute_result",
          "data": {
            "text/plain": [
              "<matplotlib.axes._subplots.AxesSubplot at 0x7fb2bc6f1790>"
            ]
          },
          "metadata": {},
          "execution_count": 102
        },
        {
          "output_type": "display_data",
          "data": {
            "image/png": "[encoded data removed]",
            "text/plain": [
              "<Figure size 432x288 with 1 Axes>"
            ]
          },
          "metadata": {
            "needs_background": "light"
          }
        }
      ]
    },
    {
      "cell_type": "markdown",
      "metadata": {
        "id": "YpdFleiEt75I"
      },
      "source": [
        "Esta grafica nos muestra como los votos y las ganancias se relacionan, podemos notar que entre menos votos tiene menos ganancias genera."
      ]
    },
    {
      "cell_type": "code",
      "metadata": {
        "colab": {
          "base_uri": "https://localhost:8080/",
          "height": 296
        },
        "id": "3zXlEeE4w2fG",
        "outputId": "e0233cd0-2154-4e03-c65f-caa67aec75ef"
      },
      "source": [
        "df[df['popularidad'] > 100].sample(100).plot.scatter(x='popularidad', y='duracion')"
      ],
      "execution_count": 105,
      "outputs": [
        {
          "output_type": "execute_result",
          "data": {
            "text/plain": [
              "<matplotlib.axes._subplots.AxesSubplot at 0x7fb2bc612750>"
            ]
          },
          "metadata": {},
          "execution_count": 105
        },
        {
          "output_type": "display_data",
          "data": {
            "image/png": "[encoded data removed]",
            "text/plain": [
              "<Figure size 432x288 with 1 Axes>"
            ]
          },
          "metadata": {
            "needs_background": "light"
          }
        }
      ]
    },
    {
      "cell_type": "markdown",
      "metadata": {
        "id": "aTKXa7aLxgyy"
      },
      "source": [
        "Esta grafica muestra que las peliculas tienden a tener una duracion entre 75 y 150 minutos, algunas de las peliculas mas populares se mantienen en este rango."
      ]
    },
    {
      "cell_type": "markdown",
      "metadata": {
        "id": "mmyFp1Fe1l-Z"
      },
      "source": [
        "**• Conclusiones. (10 puntos)**\n",
        "\n",
        "->  En esta sección, aunque ya hallan explicado lo que hicieron en la práctica, las conclusiones deben de llevar un resumen de lo que realizaron, y como se\n",
        "resolvieron los objetivos relacionados con la descripción de los datos.\n"
      ]
    },
    {
      "cell_type": "markdown",
      "metadata": {
        "id": "r_3QLWV_x5Zs"
      },
      "source": [
        "El primer objetivo secundario se respondio parcialmente, es decir segun las graficas las ganancias de las peliculas son muy inestables, normalmente generan una ganancia suficiente.\n",
        "\n",
        "El segundo objetivo secundario se contesta ya que se establece una estimacion del rango de tiempo que debe durar una pelicula para que las personas no pierdan interes, de 75 a 150 minutos, dificilmente una pelicula que dure mas o que dure menos llega a ser popular."
      ]
    },
    {
      "cell_type": "markdown",
      "metadata": {
        "id": "ResFgJFh1uVh"
      },
      "source": [
        "**• Trabajo a futuro: (10 puntos)**\n",
        "\n",
        "->  Tomando en cuenta el tercer objetivo, seleccionar una técnica de minería de datos y explicar el porqué se seleccionó esta herramienta. Aquí tener en cuenta las técnicas que presentaron sus compañeros en clase, y describir correctamente por que se quiere utilizar la técnica seleccionada."
      ]
    },
    {
      "cell_type": "markdown",
      "metadata": {
        "id": "eWOKSfYJzHb4"
      },
      "source": [
        "Para contestar nuestro objetivo principal creemos que la mejor opcion es utilizar la tecnica de arboles de decicion, ya que las variables categoricas, principalmente el genero, son muy utiles para determinar el exito de una pelicula.\n",
        "\n",
        "Ya que se desea encontrara las caracteristicas de una pelicula exitosa y la base de datos no cuenta con muchas columnas, seria mas sencillo determinar \"el camino al exito\" con la tecnica de arboles de decision."
      ]
    }
  ]
}